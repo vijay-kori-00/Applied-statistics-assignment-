{
  "nbformat": 4,
  "nbformat_minor": 0,
  "metadata": {
    "colab": {
      "provenance": [],
      "collapsed_sections": [
        "jfhbp8ZDB7If"
      ]
    },
    "kernelspec": {
      "name": "python3",
      "display_name": "Python 3"
    },
    "language_info": {
      "name": "python"
    }
  },
  "cells": [
    {
      "cell_type": "markdown",
      "source": [
        "# Customer Purchase Behavior Analysis using Descriptive Statistics"
      ],
      "metadata": {
        "id": "XVRRli7RVQFs"
      }
    },
    {
      "cell_type": "markdown",
      "source": [
        "##Problem Statement"
      ],
      "metadata": {
        "id": "jfhbp8ZDB7If"
      }
    },
    {
      "cell_type": "markdown",
      "source": [
        "🔍 **Problem Statement**:\n",
        "\n",
        "Welcome to the Probability and Statistics project! 📊🔍 In this exciting journey, you'll get the chance to apply the concepts you've learned in probability theory and statistics to analyze a real-world dataset. This project is your opportunity to dive deep into the world of data analysis and gain practical experience with the tools and techniques you've been learning. 🚀\n",
        "\n",
        "🎯 **Objective**:\n",
        "\n",
        "Your mission is to analyze the provided dataset containing customer information and purchasing behavior to make informed decisions. Your goal is to identify patterns, trends, and correlations that will help your company optimize its marketing efforts and increase offer acceptance rates. 🎉"
      ],
      "metadata": {
        "id": "EB1yLJOSV1gx"
      }
    },
    {
      "cell_type": "markdown",
      "source": [
        "##About the Dataset"
      ],
      "metadata": {
        "id": "C6I6fCk2B4W-"
      }
    },
    {
      "cell_type": "markdown",
      "source": [
        "\n",
        "\n",
        "Here's the link to the [dataset](https://docs.google.com/spreadsheets/d/12ln9iTNcVNOMYi_AU-OczKpa_KIP8XyVbsjk81Na8Yk/edit?usp=sharing)\n",
        "\n",
        "\n",
        "This data was gathered during last year's campaign.\n",
        "Data description is as follows;\n",
        "\n",
        "1. Response (target) - 1 if customer accepted the offer in the last campaign, 0 otherwise\n",
        "1. ID - Unique ID of each customer\n",
        "1. Year_Birth - Age of the customer\n",
        "1. Complain - 1 if the customer complained in the last 2 years\n",
        "1. Dt_Customer - date of customer's enrollment with the company\n",
        "1. Education - customer's level of education\n",
        "1. Marital - customer's marital status\n",
        "1. Kidhome - number of small children in customer's household\n",
        "1. Teenhome - number of teenagers in customer's household\n",
        "1. Income - customer's yearly household income\n",
        "1. MntFishProducts - the amount spent on fish products in the last 2 years\n",
        "1. MntMeatProducts - the amount spent on meat products in the last 2 years\n",
        "1. MntFruits - the amount spent on fruits products in the last 2 years\n",
        "1. MntSweetProducts - amount spent on sweet products in the last 2 years\n",
        "1. MntWines - the amount spent on wine products in the last 2 years\n",
        "1. MntGoldProds - the amount spent on gold products in the last 2 years\n",
        "1. NumDealsPurchases - number of purchases made with discount\n",
        "1. NumCatalogPurchases - number of purchases made using catalog (buying goods to be shipped through the mail)\n",
        "1. NumStorePurchases - number of purchases made directly in stores\n",
        "1. NumWebPurchases - number of purchases made through the company's website\n",
        "1. NumWebVisitsMonth - number of visits to company's website in the last month\n",
        "1. Recency - number of days since the last purchase\n",
        "\n",
        "\n",
        "\n"
      ],
      "metadata": {
        "id": "E_yV1UBOAu7Z"
      }
    },
    {
      "cell_type": "markdown",
      "source": [
        "##Task 1 - Basic CleanUp\n",
        "\n",
        "- **Clean and preprocess the dataset (handling missing values, data types, etc.).**\n",
        "\n",
        "- **Analyze the distribution of customer demographics (age, education, marital status) using descriptive statistics and visualizations.**"
      ],
      "metadata": {
        "id": "HNjRqBCzXQww"
      }
    },
    {
      "cell_type": "markdown",
      "source": [
        "\n",
        "\n",
        "**Deliverables**:\n",
        "\n",
        "- **Cleaned and Preprocessed Dataset**:\n",
        "\n",
        "  Provide a detailed report on the steps taken to handle missing values, including imputation methods used if applicable.\n",
        "  Document the process of ensuring consistent data types for each variable, addressing any inconsistencies.\n",
        "\n",
        "- **Summary of Basic Statistics**:\n",
        "\n",
        "  Present calculated statistics such as mean, median, variance, and standard deviation for each relevant numerical variable.\n",
        "  Include a concise table or summary showcasing these measures for easy reference."
      ],
      "metadata": {
        "id": "AIUm4NpNX4vt"
      }
    },
    {
      "cell_type": "code",
      "source": [
        "import pandas as pd\n",
        "import numpy as np\n",
        "import matplotlib.pyplot as plt\n",
        "import seaborn as sns"
      ],
      "metadata": {
        "id": "zeljOFW5CZew"
      },
      "execution_count": null,
      "outputs": []
    },
    {
      "cell_type": "code",
      "source": [
        "# Load Data\n",
        "from google.colab import drive"
      ],
      "metadata": {
        "id": "QiMuFuGBCo4A"
      },
      "execution_count": null,
      "outputs": []
    },
    {
      "cell_type": "code",
      "source": [
        "# Dataset First Look\n",
        "df = pd.read_csv('/content/Superstore Marketing Data - Sheet1.csv')\n",
        "df"
      ],
      "metadata": {
        "colab": {
          "base_uri": "https://localhost:8080/",
          "height": 443
        },
        "id": "oBTB462eDFi4",
        "outputId": "2bbd8706-3c5b-4ce2-f69c-d950796cecec"
      },
      "execution_count": null,
      "outputs": [
        {
          "output_type": "execute_result",
          "data": {
            "text/plain": [
              "         Id  Year_Birth   Education Marital_Status   Income  Kidhome  \\\n",
              "0      1826        1970  Graduation       Divorced  84835.0        0   \n",
              "1         1        1961  Graduation         Single  57091.0        0   \n",
              "2     10476        1958  Graduation        Married  67267.0        0   \n",
              "3      1386        1967  Graduation       Together  32474.0        1   \n",
              "4      5371        1989  Graduation         Single  21474.0        1   \n",
              "...     ...         ...         ...            ...      ...      ...   \n",
              "2235  10142        1976         PhD       Divorced  66476.0        0   \n",
              "2236   5263        1977    2n Cycle        Married  31056.0        1   \n",
              "2237     22        1976  Graduation       Divorced  46310.0        1   \n",
              "2238    528        1978  Graduation        Married  65819.0        0   \n",
              "2239   4070        1969         PhD        Married  94871.0        0   \n",
              "\n",
              "      Teenhome Dt_Customer  Recency  MntWines  ...  MntFishProducts  \\\n",
              "0            0   6/16/2014        0       189  ...              111   \n",
              "1            0   6/15/2014        0       464  ...                7   \n",
              "2            1   5/13/2014        0       134  ...               15   \n",
              "3            1    ########        0        10  ...                0   \n",
              "4            0    ########        0         6  ...               11   \n",
              "...        ...         ...      ...       ...  ...              ...   \n",
              "2235         1    ########       99       372  ...               47   \n",
              "2236         0   1/22/2013       99         5  ...                3   \n",
              "2237         0    ########       99       185  ...               15   \n",
              "2238         0  11/29/2012       99       267  ...              149   \n",
              "2239         2    ########       99       169  ...              188   \n",
              "\n",
              "      MntSweetProducts  MntGoldProds  NumDealsPurchases  NumWebPurchases  \\\n",
              "0                  189           218                  1                4   \n",
              "1                    0            37                  1                7   \n",
              "2                    2            30                  1                3   \n",
              "3                    0             0                  1                1   \n",
              "4                    0            34                  2                3   \n",
              "...                ...           ...                ...              ...   \n",
              "2235                48            78                  2                5   \n",
              "2236                 8            16                  1                1   \n",
              "2237                 5            14                  2                6   \n",
              "2238               165            63                  1                5   \n",
              "2239                 0           144                  1                8   \n",
              "\n",
              "      NumCatalogPurchases  NumStorePurchases  NumWebVisitsMonth  Response  \\\n",
              "0                       4                  6                  1         1   \n",
              "1                       3                  7                  5         1   \n",
              "2                       2                  5                  2         0   \n",
              "3                       0                  2                  7         0   \n",
              "4                       1                  2                  7         1   \n",
              "...                   ...                ...                ...       ...   \n",
              "2235                    2                 11                  4         0   \n",
              "2236                    0                  3                  8         0   \n",
              "2237                    1                  5                  8         0   \n",
              "2238                    4                 10                  3         0   \n",
              "2239                    5                  4                  7         1   \n",
              "\n",
              "      Complain  \n",
              "0            0  \n",
              "1            0  \n",
              "2            0  \n",
              "3            0  \n",
              "4            0  \n",
              "...        ...  \n",
              "2235         0  \n",
              "2236         0  \n",
              "2237         0  \n",
              "2238         0  \n",
              "2239         0  \n",
              "\n",
              "[2240 rows x 22 columns]"
            ],
            "text/html": [
              "\n",
              "  <div id=\"df-d25ca848-230f-4c25-b95b-7343ef08490a\" class=\"colab-df-container\">\n",
              "    <div>\n",
              "<style scoped>\n",
              "    .dataframe tbody tr th:only-of-type {\n",
              "        vertical-align: middle;\n",
              "    }\n",
              "\n",
              "    .dataframe tbody tr th {\n",
              "        vertical-align: top;\n",
              "    }\n",
              "\n",
              "    .dataframe thead th {\n",
              "        text-align: right;\n",
              "    }\n",
              "</style>\n",
              "<table border=\"1\" class=\"dataframe\">\n",
              "  <thead>\n",
              "    <tr style=\"text-align: right;\">\n",
              "      <th></th>\n",
              "      <th>Id</th>\n",
              "      <th>Year_Birth</th>\n",
              "      <th>Education</th>\n",
              "      <th>Marital_Status</th>\n",
              "      <th>Income</th>\n",
              "      <th>Kidhome</th>\n",
              "      <th>Teenhome</th>\n",
              "      <th>Dt_Customer</th>\n",
              "      <th>Recency</th>\n",
              "      <th>MntWines</th>\n",
              "      <th>...</th>\n",
              "      <th>MntFishProducts</th>\n",
              "      <th>MntSweetProducts</th>\n",
              "      <th>MntGoldProds</th>\n",
              "      <th>NumDealsPurchases</th>\n",
              "      <th>NumWebPurchases</th>\n",
              "      <th>NumCatalogPurchases</th>\n",
              "      <th>NumStorePurchases</th>\n",
              "      <th>NumWebVisitsMonth</th>\n",
              "      <th>Response</th>\n",
              "      <th>Complain</th>\n",
              "    </tr>\n",
              "  </thead>\n",
              "  <tbody>\n",
              "    <tr>\n",
              "      <th>0</th>\n",
              "      <td>1826</td>\n",
              "      <td>1970</td>\n",
              "      <td>Graduation</td>\n",
              "      <td>Divorced</td>\n",
              "      <td>84835.0</td>\n",
              "      <td>0</td>\n",
              "      <td>0</td>\n",
              "      <td>6/16/2014</td>\n",
              "      <td>0</td>\n",
              "      <td>189</td>\n",
              "      <td>...</td>\n",
              "      <td>111</td>\n",
              "      <td>189</td>\n",
              "      <td>218</td>\n",
              "      <td>1</td>\n",
              "      <td>4</td>\n",
              "      <td>4</td>\n",
              "      <td>6</td>\n",
              "      <td>1</td>\n",
              "      <td>1</td>\n",
              "      <td>0</td>\n",
              "    </tr>\n",
              "    <tr>\n",
              "      <th>1</th>\n",
              "      <td>1</td>\n",
              "      <td>1961</td>\n",
              "      <td>Graduation</td>\n",
              "      <td>Single</td>\n",
              "      <td>57091.0</td>\n",
              "      <td>0</td>\n",
              "      <td>0</td>\n",
              "      <td>6/15/2014</td>\n",
              "      <td>0</td>\n",
              "      <td>464</td>\n",
              "      <td>...</td>\n",
              "      <td>7</td>\n",
              "      <td>0</td>\n",
              "      <td>37</td>\n",
              "      <td>1</td>\n",
              "      <td>7</td>\n",
              "      <td>3</td>\n",
              "      <td>7</td>\n",
              "      <td>5</td>\n",
              "      <td>1</td>\n",
              "      <td>0</td>\n",
              "    </tr>\n",
              "    <tr>\n",
              "      <th>2</th>\n",
              "      <td>10476</td>\n",
              "      <td>1958</td>\n",
              "      <td>Graduation</td>\n",
              "      <td>Married</td>\n",
              "      <td>67267.0</td>\n",
              "      <td>0</td>\n",
              "      <td>1</td>\n",
              "      <td>5/13/2014</td>\n",
              "      <td>0</td>\n",
              "      <td>134</td>\n",
              "      <td>...</td>\n",
              "      <td>15</td>\n",
              "      <td>2</td>\n",
              "      <td>30</td>\n",
              "      <td>1</td>\n",
              "      <td>3</td>\n",
              "      <td>2</td>\n",
              "      <td>5</td>\n",
              "      <td>2</td>\n",
              "      <td>0</td>\n",
              "      <td>0</td>\n",
              "    </tr>\n",
              "    <tr>\n",
              "      <th>3</th>\n",
              "      <td>1386</td>\n",
              "      <td>1967</td>\n",
              "      <td>Graduation</td>\n",
              "      <td>Together</td>\n",
              "      <td>32474.0</td>\n",
              "      <td>1</td>\n",
              "      <td>1</td>\n",
              "      <td>########</td>\n",
              "      <td>0</td>\n",
              "      <td>10</td>\n",
              "      <td>...</td>\n",
              "      <td>0</td>\n",
              "      <td>0</td>\n",
              "      <td>0</td>\n",
              "      <td>1</td>\n",
              "      <td>1</td>\n",
              "      <td>0</td>\n",
              "      <td>2</td>\n",
              "      <td>7</td>\n",
              "      <td>0</td>\n",
              "      <td>0</td>\n",
              "    </tr>\n",
              "    <tr>\n",
              "      <th>4</th>\n",
              "      <td>5371</td>\n",
              "      <td>1989</td>\n",
              "      <td>Graduation</td>\n",
              "      <td>Single</td>\n",
              "      <td>21474.0</td>\n",
              "      <td>1</td>\n",
              "      <td>0</td>\n",
              "      <td>########</td>\n",
              "      <td>0</td>\n",
              "      <td>6</td>\n",
              "      <td>...</td>\n",
              "      <td>11</td>\n",
              "      <td>0</td>\n",
              "      <td>34</td>\n",
              "      <td>2</td>\n",
              "      <td>3</td>\n",
              "      <td>1</td>\n",
              "      <td>2</td>\n",
              "      <td>7</td>\n",
              "      <td>1</td>\n",
              "      <td>0</td>\n",
              "    </tr>\n",
              "    <tr>\n",
              "      <th>...</th>\n",
              "      <td>...</td>\n",
              "      <td>...</td>\n",
              "      <td>...</td>\n",
              "      <td>...</td>\n",
              "      <td>...</td>\n",
              "      <td>...</td>\n",
              "      <td>...</td>\n",
              "      <td>...</td>\n",
              "      <td>...</td>\n",
              "      <td>...</td>\n",
              "      <td>...</td>\n",
              "      <td>...</td>\n",
              "      <td>...</td>\n",
              "      <td>...</td>\n",
              "      <td>...</td>\n",
              "      <td>...</td>\n",
              "      <td>...</td>\n",
              "      <td>...</td>\n",
              "      <td>...</td>\n",
              "      <td>...</td>\n",
              "      <td>...</td>\n",
              "    </tr>\n",
              "    <tr>\n",
              "      <th>2235</th>\n",
              "      <td>10142</td>\n",
              "      <td>1976</td>\n",
              "      <td>PhD</td>\n",
              "      <td>Divorced</td>\n",
              "      <td>66476.0</td>\n",
              "      <td>0</td>\n",
              "      <td>1</td>\n",
              "      <td>########</td>\n",
              "      <td>99</td>\n",
              "      <td>372</td>\n",
              "      <td>...</td>\n",
              "      <td>47</td>\n",
              "      <td>48</td>\n",
              "      <td>78</td>\n",
              "      <td>2</td>\n",
              "      <td>5</td>\n",
              "      <td>2</td>\n",
              "      <td>11</td>\n",
              "      <td>4</td>\n",
              "      <td>0</td>\n",
              "      <td>0</td>\n",
              "    </tr>\n",
              "    <tr>\n",
              "      <th>2236</th>\n",
              "      <td>5263</td>\n",
              "      <td>1977</td>\n",
              "      <td>2n Cycle</td>\n",
              "      <td>Married</td>\n",
              "      <td>31056.0</td>\n",
              "      <td>1</td>\n",
              "      <td>0</td>\n",
              "      <td>1/22/2013</td>\n",
              "      <td>99</td>\n",
              "      <td>5</td>\n",
              "      <td>...</td>\n",
              "      <td>3</td>\n",
              "      <td>8</td>\n",
              "      <td>16</td>\n",
              "      <td>1</td>\n",
              "      <td>1</td>\n",
              "      <td>0</td>\n",
              "      <td>3</td>\n",
              "      <td>8</td>\n",
              "      <td>0</td>\n",
              "      <td>0</td>\n",
              "    </tr>\n",
              "    <tr>\n",
              "      <th>2237</th>\n",
              "      <td>22</td>\n",
              "      <td>1976</td>\n",
              "      <td>Graduation</td>\n",
              "      <td>Divorced</td>\n",
              "      <td>46310.0</td>\n",
              "      <td>1</td>\n",
              "      <td>0</td>\n",
              "      <td>########</td>\n",
              "      <td>99</td>\n",
              "      <td>185</td>\n",
              "      <td>...</td>\n",
              "      <td>15</td>\n",
              "      <td>5</td>\n",
              "      <td>14</td>\n",
              "      <td>2</td>\n",
              "      <td>6</td>\n",
              "      <td>1</td>\n",
              "      <td>5</td>\n",
              "      <td>8</td>\n",
              "      <td>0</td>\n",
              "      <td>0</td>\n",
              "    </tr>\n",
              "    <tr>\n",
              "      <th>2238</th>\n",
              "      <td>528</td>\n",
              "      <td>1978</td>\n",
              "      <td>Graduation</td>\n",
              "      <td>Married</td>\n",
              "      <td>65819.0</td>\n",
              "      <td>0</td>\n",
              "      <td>0</td>\n",
              "      <td>11/29/2012</td>\n",
              "      <td>99</td>\n",
              "      <td>267</td>\n",
              "      <td>...</td>\n",
              "      <td>149</td>\n",
              "      <td>165</td>\n",
              "      <td>63</td>\n",
              "      <td>1</td>\n",
              "      <td>5</td>\n",
              "      <td>4</td>\n",
              "      <td>10</td>\n",
              "      <td>3</td>\n",
              "      <td>0</td>\n",
              "      <td>0</td>\n",
              "    </tr>\n",
              "    <tr>\n",
              "      <th>2239</th>\n",
              "      <td>4070</td>\n",
              "      <td>1969</td>\n",
              "      <td>PhD</td>\n",
              "      <td>Married</td>\n",
              "      <td>94871.0</td>\n",
              "      <td>0</td>\n",
              "      <td>2</td>\n",
              "      <td>########</td>\n",
              "      <td>99</td>\n",
              "      <td>169</td>\n",
              "      <td>...</td>\n",
              "      <td>188</td>\n",
              "      <td>0</td>\n",
              "      <td>144</td>\n",
              "      <td>1</td>\n",
              "      <td>8</td>\n",
              "      <td>5</td>\n",
              "      <td>4</td>\n",
              "      <td>7</td>\n",
              "      <td>1</td>\n",
              "      <td>0</td>\n",
              "    </tr>\n",
              "  </tbody>\n",
              "</table>\n",
              "<p>2240 rows × 22 columns</p>\n",
              "</div>\n",
              "    <div class=\"colab-df-buttons\">\n",
              "\n",
              "  <div class=\"colab-df-container\">\n",
              "    <button class=\"colab-df-convert\" onclick=\"convertToInteractive('df-d25ca848-230f-4c25-b95b-7343ef08490a')\"\n",
              "            title=\"Convert this dataframe to an interactive table.\"\n",
              "            style=\"display:none;\">\n",
              "\n",
              "  <svg xmlns=\"http://www.w3.org/2000/svg\" height=\"24px\" viewBox=\"0 -960 960 960\">\n",
              "    <path d=\"M120-120v-720h720v720H120Zm60-500h600v-160H180v160Zm220 220h160v-160H400v160Zm0 220h160v-160H400v160ZM180-400h160v-160H180v160Zm440 0h160v-160H620v160ZM180-180h160v-160H180v160Zm440 0h160v-160H620v160Z\"/>\n",
              "  </svg>\n",
              "    </button>\n",
              "\n",
              "  <style>\n",
              "    .colab-df-container {\n",
              "      display:flex;\n",
              "      gap: 12px;\n",
              "    }\n",
              "\n",
              "    .colab-df-convert {\n",
              "      background-color: #E8F0FE;\n",
              "      border: none;\n",
              "      border-radius: 50%;\n",
              "      cursor: pointer;\n",
              "      display: none;\n",
              "      fill: #1967D2;\n",
              "      height: 32px;\n",
              "      padding: 0 0 0 0;\n",
              "      width: 32px;\n",
              "    }\n",
              "\n",
              "    .colab-df-convert:hover {\n",
              "      background-color: #E2EBFA;\n",
              "      box-shadow: 0px 1px 2px rgba(60, 64, 67, 0.3), 0px 1px 3px 1px rgba(60, 64, 67, 0.15);\n",
              "      fill: #174EA6;\n",
              "    }\n",
              "\n",
              "    .colab-df-buttons div {\n",
              "      margin-bottom: 4px;\n",
              "    }\n",
              "\n",
              "    [theme=dark] .colab-df-convert {\n",
              "      background-color: #3B4455;\n",
              "      fill: #D2E3FC;\n",
              "    }\n",
              "\n",
              "    [theme=dark] .colab-df-convert:hover {\n",
              "      background-color: #434B5C;\n",
              "      box-shadow: 0px 1px 3px 1px rgba(0, 0, 0, 0.15);\n",
              "      filter: drop-shadow(0px 1px 2px rgba(0, 0, 0, 0.3));\n",
              "      fill: #FFFFFF;\n",
              "    }\n",
              "  </style>\n",
              "\n",
              "    <script>\n",
              "      const buttonEl =\n",
              "        document.querySelector('#df-d25ca848-230f-4c25-b95b-7343ef08490a button.colab-df-convert');\n",
              "      buttonEl.style.display =\n",
              "        google.colab.kernel.accessAllowed ? 'block' : 'none';\n",
              "\n",
              "      async function convertToInteractive(key) {\n",
              "        const element = document.querySelector('#df-d25ca848-230f-4c25-b95b-7343ef08490a');\n",
              "        const dataTable =\n",
              "          await google.colab.kernel.invokeFunction('convertToInteractive',\n",
              "                                                    [key], {});\n",
              "        if (!dataTable) return;\n",
              "\n",
              "        const docLinkHtml = 'Like what you see? Visit the ' +\n",
              "          '<a target=\"_blank\" href=https://colab.research.google.com/notebooks/data_table.ipynb>data table notebook</a>'\n",
              "          + ' to learn more about interactive tables.';\n",
              "        element.innerHTML = '';\n",
              "        dataTable['output_type'] = 'display_data';\n",
              "        await google.colab.output.renderOutput(dataTable, element);\n",
              "        const docLink = document.createElement('div');\n",
              "        docLink.innerHTML = docLinkHtml;\n",
              "        element.appendChild(docLink);\n",
              "      }\n",
              "    </script>\n",
              "  </div>\n",
              "\n",
              "\n",
              "<div id=\"df-c8f8d450-158d-44a7-970a-88e4e0d9ac14\">\n",
              "  <button class=\"colab-df-quickchart\" onclick=\"quickchart('df-c8f8d450-158d-44a7-970a-88e4e0d9ac14')\"\n",
              "            title=\"Suggest charts\"\n",
              "            style=\"display:none;\">\n",
              "\n",
              "<svg xmlns=\"http://www.w3.org/2000/svg\" height=\"24px\"viewBox=\"0 0 24 24\"\n",
              "     width=\"24px\">\n",
              "    <g>\n",
              "        <path d=\"M19 3H5c-1.1 0-2 .9-2 2v14c0 1.1.9 2 2 2h14c1.1 0 2-.9 2-2V5c0-1.1-.9-2-2-2zM9 17H7v-7h2v7zm4 0h-2V7h2v10zm4 0h-2v-4h2v4z\"/>\n",
              "    </g>\n",
              "</svg>\n",
              "  </button>\n",
              "\n",
              "<style>\n",
              "  .colab-df-quickchart {\n",
              "      --bg-color: #E8F0FE;\n",
              "      --fill-color: #1967D2;\n",
              "      --hover-bg-color: #E2EBFA;\n",
              "      --hover-fill-color: #174EA6;\n",
              "      --disabled-fill-color: #AAA;\n",
              "      --disabled-bg-color: #DDD;\n",
              "  }\n",
              "\n",
              "  [theme=dark] .colab-df-quickchart {\n",
              "      --bg-color: #3B4455;\n",
              "      --fill-color: #D2E3FC;\n",
              "      --hover-bg-color: #434B5C;\n",
              "      --hover-fill-color: #FFFFFF;\n",
              "      --disabled-bg-color: #3B4455;\n",
              "      --disabled-fill-color: #666;\n",
              "  }\n",
              "\n",
              "  .colab-df-quickchart {\n",
              "    background-color: var(--bg-color);\n",
              "    border: none;\n",
              "    border-radius: 50%;\n",
              "    cursor: pointer;\n",
              "    display: none;\n",
              "    fill: var(--fill-color);\n",
              "    height: 32px;\n",
              "    padding: 0;\n",
              "    width: 32px;\n",
              "  }\n",
              "\n",
              "  .colab-df-quickchart:hover {\n",
              "    background-color: var(--hover-bg-color);\n",
              "    box-shadow: 0 1px 2px rgba(60, 64, 67, 0.3), 0 1px 3px 1px rgba(60, 64, 67, 0.15);\n",
              "    fill: var(--button-hover-fill-color);\n",
              "  }\n",
              "\n",
              "  .colab-df-quickchart-complete:disabled,\n",
              "  .colab-df-quickchart-complete:disabled:hover {\n",
              "    background-color: var(--disabled-bg-color);\n",
              "    fill: var(--disabled-fill-color);\n",
              "    box-shadow: none;\n",
              "  }\n",
              "\n",
              "  .colab-df-spinner {\n",
              "    border: 2px solid var(--fill-color);\n",
              "    border-color: transparent;\n",
              "    border-bottom-color: var(--fill-color);\n",
              "    animation:\n",
              "      spin 1s steps(1) infinite;\n",
              "  }\n",
              "\n",
              "  @keyframes spin {\n",
              "    0% {\n",
              "      border-color: transparent;\n",
              "      border-bottom-color: var(--fill-color);\n",
              "      border-left-color: var(--fill-color);\n",
              "    }\n",
              "    20% {\n",
              "      border-color: transparent;\n",
              "      border-left-color: var(--fill-color);\n",
              "      border-top-color: var(--fill-color);\n",
              "    }\n",
              "    30% {\n",
              "      border-color: transparent;\n",
              "      border-left-color: var(--fill-color);\n",
              "      border-top-color: var(--fill-color);\n",
              "      border-right-color: var(--fill-color);\n",
              "    }\n",
              "    40% {\n",
              "      border-color: transparent;\n",
              "      border-right-color: var(--fill-color);\n",
              "      border-top-color: var(--fill-color);\n",
              "    }\n",
              "    60% {\n",
              "      border-color: transparent;\n",
              "      border-right-color: var(--fill-color);\n",
              "    }\n",
              "    80% {\n",
              "      border-color: transparent;\n",
              "      border-right-color: var(--fill-color);\n",
              "      border-bottom-color: var(--fill-color);\n",
              "    }\n",
              "    90% {\n",
              "      border-color: transparent;\n",
              "      border-bottom-color: var(--fill-color);\n",
              "    }\n",
              "  }\n",
              "</style>\n",
              "\n",
              "  <script>\n",
              "    async function quickchart(key) {\n",
              "      const quickchartButtonEl =\n",
              "        document.querySelector('#' + key + ' button');\n",
              "      quickchartButtonEl.disabled = true;  // To prevent multiple clicks.\n",
              "      quickchartButtonEl.classList.add('colab-df-spinner');\n",
              "      try {\n",
              "        const charts = await google.colab.kernel.invokeFunction(\n",
              "            'suggestCharts', [key], {});\n",
              "      } catch (error) {\n",
              "        console.error('Error during call to suggestCharts:', error);\n",
              "      }\n",
              "      quickchartButtonEl.classList.remove('colab-df-spinner');\n",
              "      quickchartButtonEl.classList.add('colab-df-quickchart-complete');\n",
              "    }\n",
              "    (() => {\n",
              "      let quickchartButtonEl =\n",
              "        document.querySelector('#df-c8f8d450-158d-44a7-970a-88e4e0d9ac14 button');\n",
              "      quickchartButtonEl.style.display =\n",
              "        google.colab.kernel.accessAllowed ? 'block' : 'none';\n",
              "    })();\n",
              "  </script>\n",
              "</div>\n",
              "\n",
              "  <div id=\"id_9f5a97ed-fbb5-4b4c-95e2-9052587fac67\">\n",
              "    <style>\n",
              "      .colab-df-generate {\n",
              "        background-color: #E8F0FE;\n",
              "        border: none;\n",
              "        border-radius: 50%;\n",
              "        cursor: pointer;\n",
              "        display: none;\n",
              "        fill: #1967D2;\n",
              "        height: 32px;\n",
              "        padding: 0 0 0 0;\n",
              "        width: 32px;\n",
              "      }\n",
              "\n",
              "      .colab-df-generate:hover {\n",
              "        background-color: #E2EBFA;\n",
              "        box-shadow: 0px 1px 2px rgba(60, 64, 67, 0.3), 0px 1px 3px 1px rgba(60, 64, 67, 0.15);\n",
              "        fill: #174EA6;\n",
              "      }\n",
              "\n",
              "      [theme=dark] .colab-df-generate {\n",
              "        background-color: #3B4455;\n",
              "        fill: #D2E3FC;\n",
              "      }\n",
              "\n",
              "      [theme=dark] .colab-df-generate:hover {\n",
              "        background-color: #434B5C;\n",
              "        box-shadow: 0px 1px 3px 1px rgba(0, 0, 0, 0.15);\n",
              "        filter: drop-shadow(0px 1px 2px rgba(0, 0, 0, 0.3));\n",
              "        fill: #FFFFFF;\n",
              "      }\n",
              "    </style>\n",
              "    <button class=\"colab-df-generate\" onclick=\"generateWithVariable('df')\"\n",
              "            title=\"Generate code using this dataframe.\"\n",
              "            style=\"display:none;\">\n",
              "\n",
              "  <svg xmlns=\"http://www.w3.org/2000/svg\" height=\"24px\"viewBox=\"0 0 24 24\"\n",
              "       width=\"24px\">\n",
              "    <path d=\"M7,19H8.4L18.45,9,17,7.55,7,17.6ZM5,21V16.75L18.45,3.32a2,2,0,0,1,2.83,0l1.4,1.43a1.91,1.91,0,0,1,.58,1.4,1.91,1.91,0,0,1-.58,1.4L9.25,21ZM18.45,9,17,7.55Zm-12,3A5.31,5.31,0,0,0,4.9,8.1,5.31,5.31,0,0,0,1,6.5,5.31,5.31,0,0,0,4.9,4.9,5.31,5.31,0,0,0,6.5,1,5.31,5.31,0,0,0,8.1,4.9,5.31,5.31,0,0,0,12,6.5,5.46,5.46,0,0,0,6.5,12Z\"/>\n",
              "  </svg>\n",
              "    </button>\n",
              "    <script>\n",
              "      (() => {\n",
              "      const buttonEl =\n",
              "        document.querySelector('#id_9f5a97ed-fbb5-4b4c-95e2-9052587fac67 button.colab-df-generate');\n",
              "      buttonEl.style.display =\n",
              "        google.colab.kernel.accessAllowed ? 'block' : 'none';\n",
              "\n",
              "      buttonEl.onclick = () => {\n",
              "        google.colab.notebook.generateWithVariable('df');\n",
              "      }\n",
              "      })();\n",
              "    </script>\n",
              "  </div>\n",
              "\n",
              "    </div>\n",
              "  </div>\n"
            ],
            "application/vnd.google.colaboratory.intrinsic+json": {
              "type": "dataframe",
              "variable_name": "df"
            }
          },
          "metadata": {},
          "execution_count": 8
        }
      ]
    },
    {
      "cell_type": "code",
      "source": [
        "# shape pf data set\n",
        "df.shape"
      ],
      "metadata": {
        "colab": {
          "base_uri": "https://localhost:8080/"
        },
        "id": "Y4SxtWrMDb8T",
        "outputId": "9039c30d-d62d-4d12-b515-782e563bc0a0"
      },
      "execution_count": null,
      "outputs": [
        {
          "output_type": "execute_result",
          "data": {
            "text/plain": [
              "(2240, 22)"
            ]
          },
          "metadata": {},
          "execution_count": 10
        }
      ]
    },
    {
      "cell_type": "code",
      "source": [
        "# Information of null-Values in dataset\n",
        "df.info()"
      ],
      "metadata": {
        "colab": {
          "base_uri": "https://localhost:8080/"
        },
        "id": "Oh9YT5igDhyQ",
        "outputId": "5c6a0092-ac0e-43fc-fb8a-1ec26b6df4f2"
      },
      "execution_count": null,
      "outputs": [
        {
          "output_type": "stream",
          "name": "stdout",
          "text": [
            "<class 'pandas.core.frame.DataFrame'>\n",
            "RangeIndex: 2240 entries, 0 to 2239\n",
            "Data columns (total 22 columns):\n",
            " #   Column               Non-Null Count  Dtype  \n",
            "---  ------               --------------  -----  \n",
            " 0   Id                   2240 non-null   int64  \n",
            " 1   Year_Birth           2240 non-null   int64  \n",
            " 2   Education            2240 non-null   object \n",
            " 3   Marital_Status       2240 non-null   object \n",
            " 4   Income               2216 non-null   float64\n",
            " 5   Kidhome              2240 non-null   int64  \n",
            " 6   Teenhome             2240 non-null   int64  \n",
            " 7   Dt_Customer          2240 non-null   object \n",
            " 8   Recency              2240 non-null   int64  \n",
            " 9   MntWines             2240 non-null   int64  \n",
            " 10  MntFruits            2240 non-null   int64  \n",
            " 11  MntMeatProducts      2240 non-null   int64  \n",
            " 12  MntFishProducts      2240 non-null   int64  \n",
            " 13  MntSweetProducts     2240 non-null   int64  \n",
            " 14  MntGoldProds         2240 non-null   int64  \n",
            " 15  NumDealsPurchases    2240 non-null   int64  \n",
            " 16  NumWebPurchases      2240 non-null   int64  \n",
            " 17  NumCatalogPurchases  2240 non-null   int64  \n",
            " 18  NumStorePurchases    2240 non-null   int64  \n",
            " 19  NumWebVisitsMonth    2240 non-null   int64  \n",
            " 20  Response             2240 non-null   int64  \n",
            " 21  Complain             2240 non-null   int64  \n",
            "dtypes: float64(1), int64(18), object(3)\n",
            "memory usage: 385.1+ KB\n"
          ]
        }
      ]
    },
    {
      "cell_type": "code",
      "source": [
        "# identifying missing values in dataset\n",
        "missing_values = df.isnull().sum()\n",
        "missing_values"
      ],
      "metadata": {
        "colab": {
          "base_uri": "https://localhost:8080/"
        },
        "id": "8g5JepP_DsZL",
        "outputId": "a00b50f5-8804-42b6-b497-ff02f846c63f"
      },
      "execution_count": null,
      "outputs": [
        {
          "output_type": "execute_result",
          "data": {
            "text/plain": [
              "Id                      0\n",
              "Year_Birth              0\n",
              "Education               0\n",
              "Marital_Status          0\n",
              "Income                 24\n",
              "Kidhome                 0\n",
              "Teenhome                0\n",
              "Dt_Customer             0\n",
              "Recency                 0\n",
              "MntWines                0\n",
              "MntFruits               0\n",
              "MntMeatProducts         0\n",
              "MntFishProducts         0\n",
              "MntSweetProducts        0\n",
              "MntGoldProds            0\n",
              "NumDealsPurchases       0\n",
              "NumWebPurchases         0\n",
              "NumCatalogPurchases     0\n",
              "NumStorePurchases       0\n",
              "NumWebVisitsMonth       0\n",
              "Response                0\n",
              "Complain                0\n",
              "dtype: int64"
            ]
          },
          "metadata": {},
          "execution_count": 13
        }
      ]
    },
    {
      "cell_type": "code",
      "source": [
        "# check for duplicate values in dataset\n",
        "len(df[df.duplicated()])"
      ],
      "metadata": {
        "colab": {
          "base_uri": "https://localhost:8080/"
        },
        "id": "rBjML0uRD2Ck",
        "outputId": "883f704b-2d26-490d-8774-912168530304"
      },
      "execution_count": null,
      "outputs": [
        {
          "output_type": "execute_result",
          "data": {
            "text/plain": [
              "0"
            ]
          },
          "metadata": {},
          "execution_count": 14
        }
      ]
    },
    {
      "cell_type": "code",
      "source": [
        "# Display the summary statistics DataFrame\n",
        "summary_stats = df.describe()\n",
        "summary_stats"
      ],
      "metadata": {
        "colab": {
          "base_uri": "https://localhost:8080/",
          "height": 320
        },
        "id": "H0AGMr6ZECS0",
        "outputId": "cca7de8c-01e1-4efa-a4f6-1fb66139715c"
      },
      "execution_count": null,
      "outputs": [
        {
          "output_type": "execute_result",
          "data": {
            "text/plain": [
              "                 Id   Year_Birth         Income      Kidhome     Teenhome  \\\n",
              "count   2240.000000  2240.000000    2216.000000  2240.000000  2240.000000   \n",
              "mean    5592.159821  1968.805804   52247.251354     0.444196     0.506250   \n",
              "std     3246.662198    11.984069   25173.076661     0.538398     0.544538   \n",
              "min        0.000000  1893.000000    1730.000000     0.000000     0.000000   \n",
              "25%     2828.250000  1959.000000   35303.000000     0.000000     0.000000   \n",
              "50%     5458.500000  1970.000000   51381.500000     0.000000     0.000000   \n",
              "75%     8427.750000  1977.000000   68522.000000     1.000000     1.000000   \n",
              "max    11191.000000  1996.000000  666666.000000     2.000000     2.000000   \n",
              "\n",
              "           Recency     MntWines    MntFruits  MntMeatProducts  \\\n",
              "count  2240.000000  2240.000000  2240.000000      2240.000000   \n",
              "mean     49.109375   303.935714    26.302232       166.950000   \n",
              "std      28.962453   336.597393    39.773434       225.715373   \n",
              "min       0.000000     0.000000     0.000000         0.000000   \n",
              "25%      24.000000    23.750000     1.000000        16.000000   \n",
              "50%      49.000000   173.500000     8.000000        67.000000   \n",
              "75%      74.000000   504.250000    33.000000       232.000000   \n",
              "max      99.000000  1493.000000   199.000000      1725.000000   \n",
              "\n",
              "       MntFishProducts  MntSweetProducts  MntGoldProds  NumDealsPurchases  \\\n",
              "count      2240.000000       2240.000000   2240.000000        2240.000000   \n",
              "mean         37.525446         27.062946     44.021875           2.325000   \n",
              "std          54.628979         41.280498     52.167439           1.932238   \n",
              "min           0.000000          0.000000      0.000000           0.000000   \n",
              "25%           3.000000          1.000000      9.000000           1.000000   \n",
              "50%          12.000000          8.000000     24.000000           2.000000   \n",
              "75%          50.000000         33.000000     56.000000           3.000000   \n",
              "max         259.000000        263.000000    362.000000          15.000000   \n",
              "\n",
              "       NumWebPurchases  NumCatalogPurchases  NumStorePurchases  \\\n",
              "count      2240.000000          2240.000000        2240.000000   \n",
              "mean          4.084821             2.662054           5.790179   \n",
              "std           2.778714             2.923101           3.250958   \n",
              "min           0.000000             0.000000           0.000000   \n",
              "25%           2.000000             0.000000           3.000000   \n",
              "50%           4.000000             2.000000           5.000000   \n",
              "75%           6.000000             4.000000           8.000000   \n",
              "max          27.000000            28.000000          13.000000   \n",
              "\n",
              "       NumWebVisitsMonth     Response     Complain  \n",
              "count        2240.000000  2240.000000  2240.000000  \n",
              "mean            5.316518     0.149107     0.009375  \n",
              "std             2.426645     0.356274     0.096391  \n",
              "min             0.000000     0.000000     0.000000  \n",
              "25%             3.000000     0.000000     0.000000  \n",
              "50%             6.000000     0.000000     0.000000  \n",
              "75%             7.000000     0.000000     0.000000  \n",
              "max            20.000000     1.000000     1.000000  "
            ],
            "text/html": [
              "\n",
              "  <div id=\"df-418a9991-994b-4a9c-9fcf-fd6527f67736\" class=\"colab-df-container\">\n",
              "    <div>\n",
              "<style scoped>\n",
              "    .dataframe tbody tr th:only-of-type {\n",
              "        vertical-align: middle;\n",
              "    }\n",
              "\n",
              "    .dataframe tbody tr th {\n",
              "        vertical-align: top;\n",
              "    }\n",
              "\n",
              "    .dataframe thead th {\n",
              "        text-align: right;\n",
              "    }\n",
              "</style>\n",
              "<table border=\"1\" class=\"dataframe\">\n",
              "  <thead>\n",
              "    <tr style=\"text-align: right;\">\n",
              "      <th></th>\n",
              "      <th>Id</th>\n",
              "      <th>Year_Birth</th>\n",
              "      <th>Income</th>\n",
              "      <th>Kidhome</th>\n",
              "      <th>Teenhome</th>\n",
              "      <th>Recency</th>\n",
              "      <th>MntWines</th>\n",
              "      <th>MntFruits</th>\n",
              "      <th>MntMeatProducts</th>\n",
              "      <th>MntFishProducts</th>\n",
              "      <th>MntSweetProducts</th>\n",
              "      <th>MntGoldProds</th>\n",
              "      <th>NumDealsPurchases</th>\n",
              "      <th>NumWebPurchases</th>\n",
              "      <th>NumCatalogPurchases</th>\n",
              "      <th>NumStorePurchases</th>\n",
              "      <th>NumWebVisitsMonth</th>\n",
              "      <th>Response</th>\n",
              "      <th>Complain</th>\n",
              "    </tr>\n",
              "  </thead>\n",
              "  <tbody>\n",
              "    <tr>\n",
              "      <th>count</th>\n",
              "      <td>2240.000000</td>\n",
              "      <td>2240.000000</td>\n",
              "      <td>2216.000000</td>\n",
              "      <td>2240.000000</td>\n",
              "      <td>2240.000000</td>\n",
              "      <td>2240.000000</td>\n",
              "      <td>2240.000000</td>\n",
              "      <td>2240.000000</td>\n",
              "      <td>2240.000000</td>\n",
              "      <td>2240.000000</td>\n",
              "      <td>2240.000000</td>\n",
              "      <td>2240.000000</td>\n",
              "      <td>2240.000000</td>\n",
              "      <td>2240.000000</td>\n",
              "      <td>2240.000000</td>\n",
              "      <td>2240.000000</td>\n",
              "      <td>2240.000000</td>\n",
              "      <td>2240.000000</td>\n",
              "      <td>2240.000000</td>\n",
              "    </tr>\n",
              "    <tr>\n",
              "      <th>mean</th>\n",
              "      <td>5592.159821</td>\n",
              "      <td>1968.805804</td>\n",
              "      <td>52247.251354</td>\n",
              "      <td>0.444196</td>\n",
              "      <td>0.506250</td>\n",
              "      <td>49.109375</td>\n",
              "      <td>303.935714</td>\n",
              "      <td>26.302232</td>\n",
              "      <td>166.950000</td>\n",
              "      <td>37.525446</td>\n",
              "      <td>27.062946</td>\n",
              "      <td>44.021875</td>\n",
              "      <td>2.325000</td>\n",
              "      <td>4.084821</td>\n",
              "      <td>2.662054</td>\n",
              "      <td>5.790179</td>\n",
              "      <td>5.316518</td>\n",
              "      <td>0.149107</td>\n",
              "      <td>0.009375</td>\n",
              "    </tr>\n",
              "    <tr>\n",
              "      <th>std</th>\n",
              "      <td>3246.662198</td>\n",
              "      <td>11.984069</td>\n",
              "      <td>25173.076661</td>\n",
              "      <td>0.538398</td>\n",
              "      <td>0.544538</td>\n",
              "      <td>28.962453</td>\n",
              "      <td>336.597393</td>\n",
              "      <td>39.773434</td>\n",
              "      <td>225.715373</td>\n",
              "      <td>54.628979</td>\n",
              "      <td>41.280498</td>\n",
              "      <td>52.167439</td>\n",
              "      <td>1.932238</td>\n",
              "      <td>2.778714</td>\n",
              "      <td>2.923101</td>\n",
              "      <td>3.250958</td>\n",
              "      <td>2.426645</td>\n",
              "      <td>0.356274</td>\n",
              "      <td>0.096391</td>\n",
              "    </tr>\n",
              "    <tr>\n",
              "      <th>min</th>\n",
              "      <td>0.000000</td>\n",
              "      <td>1893.000000</td>\n",
              "      <td>1730.000000</td>\n",
              "      <td>0.000000</td>\n",
              "      <td>0.000000</td>\n",
              "      <td>0.000000</td>\n",
              "      <td>0.000000</td>\n",
              "      <td>0.000000</td>\n",
              "      <td>0.000000</td>\n",
              "      <td>0.000000</td>\n",
              "      <td>0.000000</td>\n",
              "      <td>0.000000</td>\n",
              "      <td>0.000000</td>\n",
              "      <td>0.000000</td>\n",
              "      <td>0.000000</td>\n",
              "      <td>0.000000</td>\n",
              "      <td>0.000000</td>\n",
              "      <td>0.000000</td>\n",
              "      <td>0.000000</td>\n",
              "    </tr>\n",
              "    <tr>\n",
              "      <th>25%</th>\n",
              "      <td>2828.250000</td>\n",
              "      <td>1959.000000</td>\n",
              "      <td>35303.000000</td>\n",
              "      <td>0.000000</td>\n",
              "      <td>0.000000</td>\n",
              "      <td>24.000000</td>\n",
              "      <td>23.750000</td>\n",
              "      <td>1.000000</td>\n",
              "      <td>16.000000</td>\n",
              "      <td>3.000000</td>\n",
              "      <td>1.000000</td>\n",
              "      <td>9.000000</td>\n",
              "      <td>1.000000</td>\n",
              "      <td>2.000000</td>\n",
              "      <td>0.000000</td>\n",
              "      <td>3.000000</td>\n",
              "      <td>3.000000</td>\n",
              "      <td>0.000000</td>\n",
              "      <td>0.000000</td>\n",
              "    </tr>\n",
              "    <tr>\n",
              "      <th>50%</th>\n",
              "      <td>5458.500000</td>\n",
              "      <td>1970.000000</td>\n",
              "      <td>51381.500000</td>\n",
              "      <td>0.000000</td>\n",
              "      <td>0.000000</td>\n",
              "      <td>49.000000</td>\n",
              "      <td>173.500000</td>\n",
              "      <td>8.000000</td>\n",
              "      <td>67.000000</td>\n",
              "      <td>12.000000</td>\n",
              "      <td>8.000000</td>\n",
              "      <td>24.000000</td>\n",
              "      <td>2.000000</td>\n",
              "      <td>4.000000</td>\n",
              "      <td>2.000000</td>\n",
              "      <td>5.000000</td>\n",
              "      <td>6.000000</td>\n",
              "      <td>0.000000</td>\n",
              "      <td>0.000000</td>\n",
              "    </tr>\n",
              "    <tr>\n",
              "      <th>75%</th>\n",
              "      <td>8427.750000</td>\n",
              "      <td>1977.000000</td>\n",
              "      <td>68522.000000</td>\n",
              "      <td>1.000000</td>\n",
              "      <td>1.000000</td>\n",
              "      <td>74.000000</td>\n",
              "      <td>504.250000</td>\n",
              "      <td>33.000000</td>\n",
              "      <td>232.000000</td>\n",
              "      <td>50.000000</td>\n",
              "      <td>33.000000</td>\n",
              "      <td>56.000000</td>\n",
              "      <td>3.000000</td>\n",
              "      <td>6.000000</td>\n",
              "      <td>4.000000</td>\n",
              "      <td>8.000000</td>\n",
              "      <td>7.000000</td>\n",
              "      <td>0.000000</td>\n",
              "      <td>0.000000</td>\n",
              "    </tr>\n",
              "    <tr>\n",
              "      <th>max</th>\n",
              "      <td>11191.000000</td>\n",
              "      <td>1996.000000</td>\n",
              "      <td>666666.000000</td>\n",
              "      <td>2.000000</td>\n",
              "      <td>2.000000</td>\n",
              "      <td>99.000000</td>\n",
              "      <td>1493.000000</td>\n",
              "      <td>199.000000</td>\n",
              "      <td>1725.000000</td>\n",
              "      <td>259.000000</td>\n",
              "      <td>263.000000</td>\n",
              "      <td>362.000000</td>\n",
              "      <td>15.000000</td>\n",
              "      <td>27.000000</td>\n",
              "      <td>28.000000</td>\n",
              "      <td>13.000000</td>\n",
              "      <td>20.000000</td>\n",
              "      <td>1.000000</td>\n",
              "      <td>1.000000</td>\n",
              "    </tr>\n",
              "  </tbody>\n",
              "</table>\n",
              "</div>\n",
              "    <div class=\"colab-df-buttons\">\n",
              "\n",
              "  <div class=\"colab-df-container\">\n",
              "    <button class=\"colab-df-convert\" onclick=\"convertToInteractive('df-418a9991-994b-4a9c-9fcf-fd6527f67736')\"\n",
              "            title=\"Convert this dataframe to an interactive table.\"\n",
              "            style=\"display:none;\">\n",
              "\n",
              "  <svg xmlns=\"http://www.w3.org/2000/svg\" height=\"24px\" viewBox=\"0 -960 960 960\">\n",
              "    <path d=\"M120-120v-720h720v720H120Zm60-500h600v-160H180v160Zm220 220h160v-160H400v160Zm0 220h160v-160H400v160ZM180-400h160v-160H180v160Zm440 0h160v-160H620v160ZM180-180h160v-160H180v160Zm440 0h160v-160H620v160Z\"/>\n",
              "  </svg>\n",
              "    </button>\n",
              "\n",
              "  <style>\n",
              "    .colab-df-container {\n",
              "      display:flex;\n",
              "      gap: 12px;\n",
              "    }\n",
              "\n",
              "    .colab-df-convert {\n",
              "      background-color: #E8F0FE;\n",
              "      border: none;\n",
              "      border-radius: 50%;\n",
              "      cursor: pointer;\n",
              "      display: none;\n",
              "      fill: #1967D2;\n",
              "      height: 32px;\n",
              "      padding: 0 0 0 0;\n",
              "      width: 32px;\n",
              "    }\n",
              "\n",
              "    .colab-df-convert:hover {\n",
              "      background-color: #E2EBFA;\n",
              "      box-shadow: 0px 1px 2px rgba(60, 64, 67, 0.3), 0px 1px 3px 1px rgba(60, 64, 67, 0.15);\n",
              "      fill: #174EA6;\n",
              "    }\n",
              "\n",
              "    .colab-df-buttons div {\n",
              "      margin-bottom: 4px;\n",
              "    }\n",
              "\n",
              "    [theme=dark] .colab-df-convert {\n",
              "      background-color: #3B4455;\n",
              "      fill: #D2E3FC;\n",
              "    }\n",
              "\n",
              "    [theme=dark] .colab-df-convert:hover {\n",
              "      background-color: #434B5C;\n",
              "      box-shadow: 0px 1px 3px 1px rgba(0, 0, 0, 0.15);\n",
              "      filter: drop-shadow(0px 1px 2px rgba(0, 0, 0, 0.3));\n",
              "      fill: #FFFFFF;\n",
              "    }\n",
              "  </style>\n",
              "\n",
              "    <script>\n",
              "      const buttonEl =\n",
              "        document.querySelector('#df-418a9991-994b-4a9c-9fcf-fd6527f67736 button.colab-df-convert');\n",
              "      buttonEl.style.display =\n",
              "        google.colab.kernel.accessAllowed ? 'block' : 'none';\n",
              "\n",
              "      async function convertToInteractive(key) {\n",
              "        const element = document.querySelector('#df-418a9991-994b-4a9c-9fcf-fd6527f67736');\n",
              "        const dataTable =\n",
              "          await google.colab.kernel.invokeFunction('convertToInteractive',\n",
              "                                                    [key], {});\n",
              "        if (!dataTable) return;\n",
              "\n",
              "        const docLinkHtml = 'Like what you see? Visit the ' +\n",
              "          '<a target=\"_blank\" href=https://colab.research.google.com/notebooks/data_table.ipynb>data table notebook</a>'\n",
              "          + ' to learn more about interactive tables.';\n",
              "        element.innerHTML = '';\n",
              "        dataTable['output_type'] = 'display_data';\n",
              "        await google.colab.output.renderOutput(dataTable, element);\n",
              "        const docLink = document.createElement('div');\n",
              "        docLink.innerHTML = docLinkHtml;\n",
              "        element.appendChild(docLink);\n",
              "      }\n",
              "    </script>\n",
              "  </div>\n",
              "\n",
              "\n",
              "<div id=\"df-6dd5eb87-d390-44ca-b099-7b84ec335611\">\n",
              "  <button class=\"colab-df-quickchart\" onclick=\"quickchart('df-6dd5eb87-d390-44ca-b099-7b84ec335611')\"\n",
              "            title=\"Suggest charts\"\n",
              "            style=\"display:none;\">\n",
              "\n",
              "<svg xmlns=\"http://www.w3.org/2000/svg\" height=\"24px\"viewBox=\"0 0 24 24\"\n",
              "     width=\"24px\">\n",
              "    <g>\n",
              "        <path d=\"M19 3H5c-1.1 0-2 .9-2 2v14c0 1.1.9 2 2 2h14c1.1 0 2-.9 2-2V5c0-1.1-.9-2-2-2zM9 17H7v-7h2v7zm4 0h-2V7h2v10zm4 0h-2v-4h2v4z\"/>\n",
              "    </g>\n",
              "</svg>\n",
              "  </button>\n",
              "\n",
              "<style>\n",
              "  .colab-df-quickchart {\n",
              "      --bg-color: #E8F0FE;\n",
              "      --fill-color: #1967D2;\n",
              "      --hover-bg-color: #E2EBFA;\n",
              "      --hover-fill-color: #174EA6;\n",
              "      --disabled-fill-color: #AAA;\n",
              "      --disabled-bg-color: #DDD;\n",
              "  }\n",
              "\n",
              "  [theme=dark] .colab-df-quickchart {\n",
              "      --bg-color: #3B4455;\n",
              "      --fill-color: #D2E3FC;\n",
              "      --hover-bg-color: #434B5C;\n",
              "      --hover-fill-color: #FFFFFF;\n",
              "      --disabled-bg-color: #3B4455;\n",
              "      --disabled-fill-color: #666;\n",
              "  }\n",
              "\n",
              "  .colab-df-quickchart {\n",
              "    background-color: var(--bg-color);\n",
              "    border: none;\n",
              "    border-radius: 50%;\n",
              "    cursor: pointer;\n",
              "    display: none;\n",
              "    fill: var(--fill-color);\n",
              "    height: 32px;\n",
              "    padding: 0;\n",
              "    width: 32px;\n",
              "  }\n",
              "\n",
              "  .colab-df-quickchart:hover {\n",
              "    background-color: var(--hover-bg-color);\n",
              "    box-shadow: 0 1px 2px rgba(60, 64, 67, 0.3), 0 1px 3px 1px rgba(60, 64, 67, 0.15);\n",
              "    fill: var(--button-hover-fill-color);\n",
              "  }\n",
              "\n",
              "  .colab-df-quickchart-complete:disabled,\n",
              "  .colab-df-quickchart-complete:disabled:hover {\n",
              "    background-color: var(--disabled-bg-color);\n",
              "    fill: var(--disabled-fill-color);\n",
              "    box-shadow: none;\n",
              "  }\n",
              "\n",
              "  .colab-df-spinner {\n",
              "    border: 2px solid var(--fill-color);\n",
              "    border-color: transparent;\n",
              "    border-bottom-color: var(--fill-color);\n",
              "    animation:\n",
              "      spin 1s steps(1) infinite;\n",
              "  }\n",
              "\n",
              "  @keyframes spin {\n",
              "    0% {\n",
              "      border-color: transparent;\n",
              "      border-bottom-color: var(--fill-color);\n",
              "      border-left-color: var(--fill-color);\n",
              "    }\n",
              "    20% {\n",
              "      border-color: transparent;\n",
              "      border-left-color: var(--fill-color);\n",
              "      border-top-color: var(--fill-color);\n",
              "    }\n",
              "    30% {\n",
              "      border-color: transparent;\n",
              "      border-left-color: var(--fill-color);\n",
              "      border-top-color: var(--fill-color);\n",
              "      border-right-color: var(--fill-color);\n",
              "    }\n",
              "    40% {\n",
              "      border-color: transparent;\n",
              "      border-right-color: var(--fill-color);\n",
              "      border-top-color: var(--fill-color);\n",
              "    }\n",
              "    60% {\n",
              "      border-color: transparent;\n",
              "      border-right-color: var(--fill-color);\n",
              "    }\n",
              "    80% {\n",
              "      border-color: transparent;\n",
              "      border-right-color: var(--fill-color);\n",
              "      border-bottom-color: var(--fill-color);\n",
              "    }\n",
              "    90% {\n",
              "      border-color: transparent;\n",
              "      border-bottom-color: var(--fill-color);\n",
              "    }\n",
              "  }\n",
              "</style>\n",
              "\n",
              "  <script>\n",
              "    async function quickchart(key) {\n",
              "      const quickchartButtonEl =\n",
              "        document.querySelector('#' + key + ' button');\n",
              "      quickchartButtonEl.disabled = true;  // To prevent multiple clicks.\n",
              "      quickchartButtonEl.classList.add('colab-df-spinner');\n",
              "      try {\n",
              "        const charts = await google.colab.kernel.invokeFunction(\n",
              "            'suggestCharts', [key], {});\n",
              "      } catch (error) {\n",
              "        console.error('Error during call to suggestCharts:', error);\n",
              "      }\n",
              "      quickchartButtonEl.classList.remove('colab-df-spinner');\n",
              "      quickchartButtonEl.classList.add('colab-df-quickchart-complete');\n",
              "    }\n",
              "    (() => {\n",
              "      let quickchartButtonEl =\n",
              "        document.querySelector('#df-6dd5eb87-d390-44ca-b099-7b84ec335611 button');\n",
              "      quickchartButtonEl.style.display =\n",
              "        google.colab.kernel.accessAllowed ? 'block' : 'none';\n",
              "    })();\n",
              "  </script>\n",
              "</div>\n",
              "\n",
              "  <div id=\"id_4ffed05a-612b-4197-a4ad-95eaedcb4ad5\">\n",
              "    <style>\n",
              "      .colab-df-generate {\n",
              "        background-color: #E8F0FE;\n",
              "        border: none;\n",
              "        border-radius: 50%;\n",
              "        cursor: pointer;\n",
              "        display: none;\n",
              "        fill: #1967D2;\n",
              "        height: 32px;\n",
              "        padding: 0 0 0 0;\n",
              "        width: 32px;\n",
              "      }\n",
              "\n",
              "      .colab-df-generate:hover {\n",
              "        background-color: #E2EBFA;\n",
              "        box-shadow: 0px 1px 2px rgba(60, 64, 67, 0.3), 0px 1px 3px 1px rgba(60, 64, 67, 0.15);\n",
              "        fill: #174EA6;\n",
              "      }\n",
              "\n",
              "      [theme=dark] .colab-df-generate {\n",
              "        background-color: #3B4455;\n",
              "        fill: #D2E3FC;\n",
              "      }\n",
              "\n",
              "      [theme=dark] .colab-df-generate:hover {\n",
              "        background-color: #434B5C;\n",
              "        box-shadow: 0px 1px 3px 1px rgba(0, 0, 0, 0.15);\n",
              "        filter: drop-shadow(0px 1px 2px rgba(0, 0, 0, 0.3));\n",
              "        fill: #FFFFFF;\n",
              "      }\n",
              "    </style>\n",
              "    <button class=\"colab-df-generate\" onclick=\"generateWithVariable('summary_stats')\"\n",
              "            title=\"Generate code using this dataframe.\"\n",
              "            style=\"display:none;\">\n",
              "\n",
              "  <svg xmlns=\"http://www.w3.org/2000/svg\" height=\"24px\"viewBox=\"0 0 24 24\"\n",
              "       width=\"24px\">\n",
              "    <path d=\"M7,19H8.4L18.45,9,17,7.55,7,17.6ZM5,21V16.75L18.45,3.32a2,2,0,0,1,2.83,0l1.4,1.43a1.91,1.91,0,0,1,.58,1.4,1.91,1.91,0,0,1-.58,1.4L9.25,21ZM18.45,9,17,7.55Zm-12,3A5.31,5.31,0,0,0,4.9,8.1,5.31,5.31,0,0,0,1,6.5,5.31,5.31,0,0,0,4.9,4.9,5.31,5.31,0,0,0,6.5,1,5.31,5.31,0,0,0,8.1,4.9,5.31,5.31,0,0,0,12,6.5,5.46,5.46,0,0,0,6.5,12Z\"/>\n",
              "  </svg>\n",
              "    </button>\n",
              "    <script>\n",
              "      (() => {\n",
              "      const buttonEl =\n",
              "        document.querySelector('#id_4ffed05a-612b-4197-a4ad-95eaedcb4ad5 button.colab-df-generate');\n",
              "      buttonEl.style.display =\n",
              "        google.colab.kernel.accessAllowed ? 'block' : 'none';\n",
              "\n",
              "      buttonEl.onclick = () => {\n",
              "        google.colab.notebook.generateWithVariable('summary_stats');\n",
              "      }\n",
              "      })();\n",
              "    </script>\n",
              "  </div>\n",
              "\n",
              "    </div>\n",
              "  </div>\n"
            ],
            "application/vnd.google.colaboratory.intrinsic+json": {
              "type": "dataframe",
              "variable_name": "summary_stats",
              "summary": "{\n  \"name\": \"summary_stats\",\n  \"rows\": 8,\n  \"fields\": [\n    {\n      \"column\": \"Id\",\n      \"properties\": {\n        \"dtype\": \"number\",\n        \"std\": 3603.92975709307,\n        \"min\": 0.0,\n        \"max\": 11191.0,\n        \"num_unique_values\": 8,\n        \"samples\": [\n          5592.159821428571,\n          5458.5,\n          2240.0\n        ],\n        \"semantic_type\": \"\",\n        \"description\": \"\"\n      }\n    },\n    {\n      \"column\": \"Year_Birth\",\n      \"properties\": {\n        \"dtype\": \"number\",\n        \"std\": 710.4545013567929,\n        \"min\": 11.984069456885827,\n        \"max\": 2240.0,\n        \"num_unique_values\": 8,\n        \"samples\": [\n          1968.8058035714287,\n          1970.0,\n          2240.0\n        ],\n        \"semantic_type\": \"\",\n        \"description\": \"\"\n      }\n    },\n    {\n      \"column\": \"Income\",\n      \"properties\": {\n        \"dtype\": \"number\",\n        \"std\": 225013.17277492964,\n        \"min\": 1730.0,\n        \"max\": 666666.0,\n        \"num_unique_values\": 8,\n        \"samples\": [\n          52247.25135379061,\n          51381.5,\n          2216.0\n        ],\n        \"semantic_type\": \"\",\n        \"description\": \"\"\n      }\n    },\n    {\n      \"column\": \"Kidhome\",\n      \"properties\": {\n        \"dtype\": \"number\",\n        \"std\": 791.7587341406338,\n        \"min\": 0.0,\n        \"max\": 2240.0,\n        \"num_unique_values\": 6,\n        \"samples\": [\n          2240.0,\n          0.44419642857142855,\n          2.0\n        ],\n        \"semantic_type\": \"\",\n        \"description\": \"\"\n      }\n    },\n    {\n      \"column\": \"Teenhome\",\n      \"properties\": {\n        \"dtype\": \"number\",\n        \"std\": 791.7552887000102,\n        \"min\": 0.0,\n        \"max\": 2240.0,\n        \"num_unique_values\": 6,\n        \"samples\": [\n          2240.0,\n          0.50625,\n          2.0\n        ],\n        \"semantic_type\": \"\",\n        \"description\": \"\"\n      }\n    },\n    {\n      \"column\": \"Recency\",\n      \"properties\": {\n        \"dtype\": \"number\",\n        \"std\": 776.1900091486706,\n        \"min\": 0.0,\n        \"max\": 2240.0,\n        \"num_unique_values\": 8,\n        \"samples\": [\n          49.109375,\n          49.0,\n          2240.0\n        ],\n        \"semantic_type\": \"\",\n        \"description\": \"\"\n      }\n    },\n    {\n      \"column\": \"MntWines\",\n      \"properties\": {\n        \"dtype\": \"number\",\n        \"std\": 803.364618217125,\n        \"min\": 0.0,\n        \"max\": 2240.0,\n        \"num_unique_values\": 8,\n        \"samples\": [\n          303.9357142857143,\n          173.5,\n          2240.0\n        ],\n        \"semantic_type\": \"\",\n        \"description\": \"\"\n      }\n    },\n    {\n      \"column\": \"MntFruits\",\n      \"properties\": {\n        \"dtype\": \"number\",\n        \"std\": 779.1643350838765,\n        \"min\": 0.0,\n        \"max\": 2240.0,\n        \"num_unique_values\": 8,\n        \"samples\": [\n          26.302232142857143,\n          8.0,\n          2240.0\n        ],\n        \"semantic_type\": \"\",\n        \"description\": \"\"\n      }\n    },\n    {\n      \"column\": \"MntMeatProducts\",\n      \"properties\": {\n        \"dtype\": \"number\",\n        \"std\": 878.4229799113473,\n        \"min\": 0.0,\n        \"max\": 2240.0,\n        \"num_unique_values\": 8,\n        \"samples\": [\n          166.95,\n          67.0,\n          2240.0\n        ],\n        \"semantic_type\": \"\",\n        \"description\": \"\"\n      }\n    },\n    {\n      \"column\": \"MntFishProducts\",\n      \"properties\": {\n        \"dtype\": \"number\",\n        \"std\": 775.5027809462216,\n        \"min\": 0.0,\n        \"max\": 2240.0,\n        \"num_unique_values\": 8,\n        \"samples\": [\n          37.52544642857143,\n          12.0,\n          2240.0\n        ],\n        \"semantic_type\": \"\",\n        \"description\": \"\"\n      }\n    },\n    {\n      \"column\": \"MntSweetProducts\",\n      \"properties\": {\n        \"dtype\": \"number\",\n        \"std\": 777.9702516795911,\n        \"min\": 0.0,\n        \"max\": 2240.0,\n        \"num_unique_values\": 8,\n        \"samples\": [\n          27.06294642857143,\n          8.0,\n          2240.0\n        ],\n        \"semantic_type\": \"\",\n        \"description\": \"\"\n      }\n    },\n    {\n      \"column\": \"MntGoldProds\",\n      \"properties\": {\n        \"dtype\": \"number\",\n        \"std\": 773.3085997573969,\n        \"min\": 0.0,\n        \"max\": 2240.0,\n        \"num_unique_values\": 8,\n        \"samples\": [\n          44.021875,\n          24.0,\n          2240.0\n        ],\n        \"semantic_type\": \"\",\n        \"description\": \"\"\n      }\n    },\n    {\n      \"column\": \"NumDealsPurchases\",\n      \"properties\": {\n        \"dtype\": \"number\",\n        \"std\": 790.6980952804128,\n        \"min\": 0.0,\n        \"max\": 2240.0,\n        \"num_unique_values\": 8,\n        \"samples\": [\n          2.325,\n          2.0,\n          2240.0\n        ],\n        \"semantic_type\": \"\",\n        \"description\": \"\"\n      }\n    },\n    {\n      \"column\": \"NumWebPurchases\",\n      \"properties\": {\n        \"dtype\": \"number\",\n        \"std\": 789.6891697830897,\n        \"min\": 0.0,\n        \"max\": 2240.0,\n        \"num_unique_values\": 8,\n        \"samples\": [\n          4.084821428571429,\n          4.0,\n          2240.0\n        ],\n        \"semantic_type\": \"\",\n        \"description\": \"\"\n      }\n    },\n    {\n      \"column\": \"NumCatalogPurchases\",\n      \"properties\": {\n        \"dtype\": \"number\",\n        \"std\": 790.014111232484,\n        \"min\": 0.0,\n        \"max\": 2240.0,\n        \"num_unique_values\": 7,\n        \"samples\": [\n          2240.0,\n          2.6620535714285714,\n          4.0\n        ],\n        \"semantic_type\": \"\",\n        \"description\": \"\"\n      }\n    },\n    {\n      \"column\": \"NumStorePurchases\",\n      \"properties\": {\n        \"dtype\": \"number\",\n        \"std\": 790.0476628772682,\n        \"min\": 0.0,\n        \"max\": 2240.0,\n        \"num_unique_values\": 8,\n        \"samples\": [\n          5.790178571428571,\n          5.0,\n          2240.0\n        ],\n        \"semantic_type\": \"\",\n        \"description\": \"\"\n      }\n    },\n    {\n      \"column\": \"NumWebVisitsMonth\",\n      \"properties\": {\n        \"dtype\": \"number\",\n        \"std\": 789.773276663769,\n        \"min\": 0.0,\n        \"max\": 2240.0,\n        \"num_unique_values\": 8,\n        \"samples\": [\n          5.316517857142857,\n          6.0,\n          2240.0\n        ],\n        \"semantic_type\": \"\",\n        \"description\": \"\"\n      }\n    },\n    {\n      \"column\": \"Response\",\n      \"properties\": {\n        \"dtype\": \"number\",\n        \"std\": 791.8836361742647,\n        \"min\": 0.0,\n        \"max\": 2240.0,\n        \"num_unique_values\": 5,\n        \"samples\": [\n          0.14910714285714285,\n          1.0,\n          0.35627358640847917\n        ],\n        \"semantic_type\": \"\",\n        \"description\": \"\"\n      }\n    },\n    {\n      \"column\": \"Complain\",\n      \"properties\": {\n        \"dtype\": \"number\",\n        \"std\": 791.9038205927037,\n        \"min\": 0.0,\n        \"max\": 2240.0,\n        \"num_unique_values\": 5,\n        \"samples\": [\n          0.009375,\n          1.0,\n          0.09639116794449755\n        ],\n        \"semantic_type\": \"\",\n        \"description\": \"\"\n      }\n    }\n  ]\n}"
            }
          },
          "metadata": {},
          "execution_count": 15
        }
      ]
    },
    {
      "cell_type": "code",
      "source": [
        "#showing distribution of age\n",
        "plt.figure(figsize=(8, 4))\n",
        "sns.histplot(df['Year_Birth'], bins=30, kde=True)\n",
        "plt.title('Age Distribution')\n",
        "plt.xlabel('Year of Birth')\n",
        "plt.show()"
      ],
      "metadata": {
        "colab": {
          "base_uri": "https://localhost:8080/",
          "height": 410
        },
        "id": "hygXLZlaEK3I",
        "outputId": "99052169-c7d1-4f2f-98c0-f4cc4f6d44ca"
      },
      "execution_count": null,
      "outputs": [
        {
          "output_type": "display_data",
          "data": {
            "text/plain": [
              "<Figure size 800x400 with 1 Axes>"
            ],
            "image/png": "[encoded data removed]"
          },
          "metadata": {}
        }
      ]
    },
    {
      "cell_type": "code",
      "source": [
        "\n",
        "#showing distribution of education\n",
        "\n",
        "plt.figure(figsize=(8, 4))\n",
        "sns.countplot(x='Education', data=df)\n",
        "plt.title('Distribution of Education')\n",
        "plt.show()\n"
      ],
      "metadata": {
        "colab": {
          "base_uri": "https://localhost:8080/",
          "height": 410
        },
        "id": "iPyr3l_nEPP9",
        "outputId": "b723f81c-e2d9-4e72-a8d4-aa592be9aa1c"
      },
      "execution_count": null,
      "outputs": [
        {
          "output_type": "display_data",
          "data": {
            "text/plain": [
              "<Figure size 800x400 with 1 Axes>"
            ],
            "image/png": "[encoded data removed]"
          },
          "metadata": {}
        }
      ]
    },
    {
      "cell_type": "markdown",
      "source": [
        "##Task 2 - Descriptive Statistics 📊\n",
        "\n",
        "- **Calculate measures of central tendency (mean, median, mode) and measures of dispersion (variance, standard deviation) for key variables. Identify and handle outliers if necessary.**\n"
      ],
      "metadata": {
        "id": "bDza2Cu0YpE6"
      }
    },
    {
      "cell_type": "markdown",
      "source": [
        "**Deliverables**:\n",
        "\n",
        "- **Descriptive statistics that reveal the central tendencies, variations, and potential outliers in the dataset.**:\n",
        "\n",
        "  "
      ],
      "metadata": {
        "id": "pGrBYXGWZtYe"
      }
    },
    {
      "cell_type": "markdown",
      "source": [
        "**1. measures of central tendency (mean, median, mode)**"
      ],
      "metadata": {
        "id": "xgVbXOwuEj8O"
      }
    },
    {
      "cell_type": "code",
      "source": [
        "# Lets first calculate measures of central tendency (mean, median, mode)\n",
        "# 1 : Mean\n",
        "key_variable = ['Income','Recency','MntWines','MntFruits','MntMeatProducts','MntFishProducts','NumDealsPurchases','MntGoldProds','NumWebPurchases','NumWebVisitsMonth']\n",
        "mean = df[key_variable].mean()\n",
        "print(f'Mean of selected variables of datasets are:\\n {mean}')"
      ],
      "metadata": {
        "colab": {
          "base_uri": "https://localhost:8080/"
        },
        "id": "A7Vv3yHkEW19",
        "outputId": "7cd7d4bd-dc55-44d9-8343-fa81103e0c8f"
      },
      "execution_count": null,
      "outputs": [
        {
          "output_type": "stream",
          "name": "stdout",
          "text": [
            "Mean of selected variables of datasets are:\n",
            " Income               52247.251354\n",
            "Recency                 49.109375\n",
            "MntWines               303.935714\n",
            "MntFruits               26.302232\n",
            "MntMeatProducts        166.950000\n",
            "MntFishProducts         37.525446\n",
            "NumDealsPurchases        2.325000\n",
            "MntGoldProds            44.021875\n",
            "NumWebPurchases          4.084821\n",
            "NumWebVisitsMonth        5.316518\n",
            "dtype: float64\n"
          ]
        }
      ]
    },
    {
      "cell_type": "code",
      "source": [
        "# 2 : Median\n",
        "key_variable = ['Income','Recency','Kidhome','Teenhome','MntWines','MntFruits','MntMeatProducts','MntFishProducts','NumDealsPurchases','NumWebPurchases','NumWebVisitsMonth']\n",
        "median =df[key_variable].median()\n",
        "print(f'Median of key variables of datasets are:\\n {median}')"
      ],
      "metadata": {
        "colab": {
          "base_uri": "https://localhost:8080/"
        },
        "id": "quus-DteEcmF",
        "outputId": "94398a2c-6f3a-4fd5-ba6b-3576742d3b20"
      },
      "execution_count": null,
      "outputs": [
        {
          "output_type": "stream",
          "name": "stdout",
          "text": [
            "Median of key variables of datasets are:\n",
            " Income               51381.5\n",
            "Recency                 49.0\n",
            "Kidhome                  0.0\n",
            "Teenhome                 0.0\n",
            "MntWines               173.5\n",
            "MntFruits                8.0\n",
            "MntMeatProducts         67.0\n",
            "MntFishProducts         12.0\n",
            "NumDealsPurchases        2.0\n",
            "NumWebPurchases          4.0\n",
            "NumWebVisitsMonth        6.0\n",
            "dtype: float64\n"
          ]
        }
      ]
    },
    {
      "cell_type": "code",
      "source": [
        "key_variable = ['Income','Recency','Kidhome','Teenhome','MntWines','MntFruits','MntMeatProducts','MntFishProducts','NumDealsPurchases','NumWebPurchases','NumWebVisitsMonth']\n",
        "mode = df[key_variable].mode()\n",
        "print(f'Mode of key variables of datasets are:\\n {mode}')"
      ],
      "metadata": {
        "colab": {
          "base_uri": "https://localhost:8080/"
        },
        "id": "U7iA7EErEgXt",
        "outputId": "0d723cc3-d05e-4224-dff2-2261911fb765"
      },
      "execution_count": null,
      "outputs": [
        {
          "output_type": "stream",
          "name": "stdout",
          "text": [
            "Mode of key variables of datasets are:\n",
            "    Income  Recency  Kidhome  Teenhome  MntWines  MntFruits  MntMeatProducts  \\\n",
            "0  7500.0       56        0         0         2          0                7   \n",
            "\n",
            "   MntFishProducts  NumDealsPurchases  NumWebPurchases  NumWebVisitsMonth  \n",
            "0                0                  1                2                  7  \n"
          ]
        }
      ]
    },
    {
      "cell_type": "markdown",
      "source": [
        "**2. measures of dispersion (variance, standard deviation) **"
      ],
      "metadata": {
        "id": "-bjiQTlTErid"
      }
    },
    {
      "cell_type": "code",
      "source": [
        "# Variance\n",
        "key_variable = ['Income','Recency','Kidhome','Teenhome','MntWines','MntFruits','MntMeatProducts','MntFishProducts','NumDealsPurchases','NumWebPurchases','NumWebVisitsMonth']\n",
        "variance = df[key_variable].var()\n",
        "print(f'Variance of key variables of datasets are:\\n {variance}')"
      ],
      "metadata": {
        "colab": {
          "base_uri": "https://localhost:8080/"
        },
        "id": "wz0XuwXcEtoE",
        "outputId": "858597d1-7f5f-4cd3-8b1d-5c29de3636f0"
      },
      "execution_count": null,
      "outputs": [
        {
          "output_type": "stream",
          "name": "stdout",
          "text": [
            "Variance of key variables of datasets are:\n",
            " Income               6.336838e+08\n",
            "Recency              8.388237e+02\n",
            "Kidhome              2.898725e-01\n",
            "Teenhome             2.965219e-01\n",
            "MntWines             1.132978e+05\n",
            "MntFruits            1.581926e+03\n",
            "MntMeatProducts      5.094743e+04\n",
            "MntFishProducts      2.984325e+03\n",
            "NumDealsPurchases    3.733542e+00\n",
            "NumWebPurchases      7.721252e+00\n",
            "NumWebVisitsMonth    5.888606e+00\n",
            "dtype: float64\n"
          ]
        }
      ]
    },
    {
      "cell_type": "code",
      "source": [
        "# Standard Deviation\n",
        "key_variable = ['Income','Recency','Kidhome','Teenhome','MntWines','MntFruits','MntMeatProducts','MntFishProducts','NumDealsPurchases','NumWebPurchases','NumWebVisitsMonth']\n",
        "standard_deviation = df[key_variable].std()\n",
        "print(f'Standard deviation of key variables of datasets are:\\n {standard_deviation}')\n"
      ],
      "metadata": {
        "colab": {
          "base_uri": "https://localhost:8080/"
        },
        "id": "zoZi-gtNEuEQ",
        "outputId": "ef65f752-552a-4d0d-e98a-f22ed16b4f29"
      },
      "execution_count": null,
      "outputs": [
        {
          "output_type": "stream",
          "name": "stdout",
          "text": [
            "Standard deviation of key variables of datasets are:\n",
            " Income               25173.076661\n",
            "Recency                 28.962453\n",
            "Kidhome                  0.538398\n",
            "Teenhome                 0.544538\n",
            "MntWines               336.597393\n",
            "MntFruits               39.773434\n",
            "MntMeatProducts        225.715373\n",
            "MntFishProducts         54.628979\n",
            "NumDealsPurchases        1.932238\n",
            "NumWebPurchases          2.778714\n",
            "NumWebVisitsMonth        2.426645\n",
            "dtype: float64\n"
          ]
        }
      ]
    },
    {
      "cell_type": "code",
      "source": [
        "# Identify Outliers\n",
        "import seaborn as sns\n",
        "\n",
        "# Create boxplots for key variables\n",
        "key_variables = ['Income', 'Recency', 'MntWines', 'MntFruits', 'MntMeatProducts', 'MntFishProducts',\n",
        "                 'NumDealsPurchases', 'MntGoldProds', 'NumWebPurchases', 'NumWebVisitsMonth']\n",
        "\n",
        "for variable in key_variables:\n",
        "    sns.boxplot(y=df[variable])\n",
        "    plt.show()\n"
      ],
      "metadata": {
        "colab": {
          "base_uri": "https://localhost:8080/",
          "height": 1000
        },
        "id": "RJZkt0A2E2Fa",
        "outputId": "04bebe1a-8c9a-4a17-835a-cba1051f32d4"
      },
      "execution_count": null,
      "outputs": [
        {
          "output_type": "display_data",
          "data": {
            "text/plain": [
              "<Figure size 640x480 with 1 Axes>"
            ],
            "image/png": "[encoded data removed]"
          },
          "metadata": {}
        },
        {
          "output_type": "display_data",
          "data": {
            "text/plain": [
              "<Figure size 640x480 with 1 Axes>"
            ],
            "image/png": "[encoded data removed]"
          },
          "metadata": {}
        },
        {
          "output_type": "display_data",
          "data": {
            "text/plain": [
              "<Figure size 640x480 with 1 Axes>"
            ],
            "image/png": "[encoded data removed]"
          },
          "metadata": {}
        },
        {
          "output_type": "display_data",
          "data": {
            "text/plain": [
              "<Figure size 640x480 with 1 Axes>"
            ],
            "image/png": "[encoded data removed]"
          },
          "metadata": {}
        },
        {
          "output_type": "display_data",
          "data": {
            "text/plain": [
              "<Figure size 640x480 with 1 Axes>"
            ],
            "image/png": "[encoded data removed]"
          },
          "metadata": {}
        },
        {
          "output_type": "display_data",
          "data": {
            "text/plain": [
              "<Figure size 640x480 with 1 Axes>"
            ],
            "image/png": "[encoded data removed]"
          },
          "metadata": {}
        },
        {
          "output_type": "display_data",
          "data": {
            "text/plain": [
              "<Figure size 640x480 with 1 Axes>"
            ],
            "image/png": "[encoded data removed]"
          },
          "metadata": {}
        },
        {
          "output_type": "display_data",
          "data": {
            "text/plain": [
              "<Figure size 640x480 with 1 Axes>"
            ],
            "image/png": "[encoded data removed]"
          },
          "metadata": {}
        },
        {
          "output_type": "display_data",
          "data": {
            "text/plain": [
              "<Figure size 640x480 with 1 Axes>"
            ],
            "image/png": "[encoded data removed]"
          },
          "metadata": {}
        },
        {
          "output_type": "display_data",
          "data": {
            "text/plain": [
              "<Figure size 640x480 with 1 Axes>"
            ],
            "image/png": "[encoded data removed]"
          },
          "metadata": {}
        }
      ]
    },
    {
      "cell_type": "code",
      "source": [],
      "metadata": {
        "id": "jzTJn_ZgEt12"
      },
      "execution_count": null,
      "outputs": []
    },
    {
      "cell_type": "markdown",
      "source": [
        "## Task 3 - Probability Distributions 🎲\n",
        "\n",
        "- **Identify variables that could follow specific probability distributions (e.g., Binomial, Normal). Calculate probabilities and expected values based on these distributions.**\n",
        "\n"
      ],
      "metadata": {
        "id": "GCB3OLxXaSCZ"
      }
    },
    {
      "cell_type": "code",
      "source": [
        "# calculating average of total purchase\n",
        "total_purchases = df[['NumDealsPurchases', 'NumWebPurchases', 'NumCatalogPurchases', 'NumStorePurchases']].sum(axis=1)\n",
        "p_purchase = total_purchases.mean() / total_purchases.max()\n",
        "expected_purchases = total_purchases.mean()"
      ],
      "metadata": {
        "id": "LR_qrE9CFBFZ"
      },
      "execution_count": null,
      "outputs": []
    },
    {
      "cell_type": "code",
      "source": [
        "from scipy.stats import norm\n",
        "\n",
        "mu_income, sigma_income = df['Income'].mean(), df['Income'].std()\n",
        "prob_income_gt_70000 = 1 - norm.cdf(70000, mu_income, sigma_income)\n",
        "expected_income = mu_income + sigma_income * norm.ppf(prob_income_gt_70000)\n",
        "\n",
        "print(\"Probability Distributions and Calculated Values:\")\n",
        "print(f\"Total Purchases:\")\n",
        "print(f\"   Probability of a purchase: {p_purchase:.4f}\")\n",
        "print(f\"   Expected number of purchases: {expected_purchases:.2f}\")\n",
        "\n",
        "print(f\"\\nIncome:\")\n",
        "print(f\"   Probability of income > $70,000: {prob_income_gt_70000:.4f}\")\n",
        "print(f\"   Expected income: {expected_income:.2f}\")\n"
      ],
      "metadata": {
        "colab": {
          "base_uri": "https://localhost:8080/"
        },
        "id": "Q5THmIsFFA4t",
        "outputId": "17053283-2a8b-4631-b630-00519229f143"
      },
      "execution_count": null,
      "outputs": [
        {
          "output_type": "stream",
          "name": "stdout",
          "text": [
            "Probability Distributions and Calculated Values:\n",
            "Total Purchases:\n",
            "   Probability of a purchase: 0.3378\n",
            "   Expected number of purchases: 14.86\n",
            "\n",
            "Income:\n",
            "   Probability of income > $70,000: 0.2403\n",
            "   Expected income: 34494.50\n"
          ]
        }
      ]
    },
    {
      "cell_type": "markdown",
      "source": [
        "**Deliverables**:\n",
        "\n",
        "- **Determination of suitable probability distributions for relevant variables and corresponding calculated probabilities and expected values.**:\n",
        "\n",
        "  "
      ],
      "metadata": {
        "id": "kgjtExiJay2_"
      }
    },
    {
      "cell_type": "markdown",
      "source": [
        "## Task 4: Insights and Customer Segmentation 📈\n",
        "\n",
        "- **Explore relationships between customer characteristics and spending habits. Segment customers based on their behaviors and characteristics.**"
      ],
      "metadata": {
        "id": "ZSHZP8wgcIKE"
      }
    },
    {
      "cell_type": "code",
      "source": [
        "# Relationship between Income and Total Spending\n",
        "df['TotalSpend'] = df[['NumDealsPurchases', 'NumWebPurchases', 'NumCatalogPurchases', 'NumStorePurchases']].sum(axis=1)\n",
        "\n",
        "plt.figure(figsize=(8, 4))\n",
        "sns.scatterplot(x='Income', y='TotalSpend', data=df)\n",
        "plt.title('Relationship between Income and Total Spending')\n",
        "plt.xlabel('Income')\n",
        "plt.ylabel('Total Spending')\n",
        "plt.show()"
      ],
      "metadata": {
        "colab": {
          "base_uri": "https://localhost:8080/",
          "height": 410
        },
        "id": "Xvyze90aFQKS",
        "outputId": "19635f30-2dd5-4dfe-e76c-7807b44a04c0"
      },
      "execution_count": null,
      "outputs": [
        {
          "output_type": "display_data",
          "data": {
            "text/plain": [
              "<Figure size 800x400 with 1 Axes>"
            ],
            "image/png": "[encoded data removed]"
          },
          "metadata": {}
        }
      ]
    },
    {
      "cell_type": "markdown",
      "source": [
        "**Deliverables**:\n",
        "\n",
        "- **Key insights regarding relationships between variables and distinct customer segments based on behaviors.**\n",
        "\n",
        "  "
      ],
      "metadata": {
        "id": "1UYOJxazcRi3"
      }
    },
    {
      "cell_type": "markdown",
      "source": [
        "## Task 5: Conclusion and Recommendations\n",
        "\n",
        "- **Create clear visualizations to showcase your findings. Use insights to make recommendations for the company based on your analysis.**"
      ],
      "metadata": {
        "id": "Fv6iVJbgiwf2"
      }
    },
    {
      "cell_type": "markdown",
      "source": [
        "**Deliverables**:\n",
        "\n",
        "- **Well-designed visualizations that visually represent your insights and actionable recommendations based on customer behavior analysis.**"
      ],
      "metadata": {
        "id": "-z5hEuOejQjd"
      }
    },
    {
      "cell_type": "code",
      "source": [
        "# Education-Based Insights\n",
        "\n",
        "plt.figure(figsize=(12, 6))\n",
        "sns.boxplot(x='Education', y='TotalSpend', data=df)\n",
        "plt.title('Spending Habits across Different Education Levels')\n",
        "plt.xlabel('Education Level')\n",
        "plt.ylabel('Total Spending')\n",
        "plt.show()"
      ],
      "metadata": {
        "colab": {
          "base_uri": "https://localhost:8080/",
          "height": 564
        },
        "id": "X5a9PNKKFh78",
        "outputId": "0adcdced-517d-4162-e345-b448719e5e48"
      },
      "execution_count": null,
      "outputs": [
        {
          "output_type": "display_data",
          "data": {
            "text/plain": [
              "<Figure size 1200x600 with 1 Axes>"
            ],
            "image/png": "[encoded data removed]"
          },
          "metadata": {}
        }
      ]
    },
    {
      "cell_type": "markdown",
      "source": [
        "## Bonus Task - Geogebra Experiment\n",
        "\n"
      ],
      "metadata": {
        "id": "Fib_ksA9jmii"
      }
    },
    {
      "cell_type": "markdown",
      "source": [
        "Here's the link to an intriguing GeoGebra experiment: [GeoGebra Experiment Link](https://www.geogebra.org/m/LZbwMZtJ)\n",
        "\n",
        "This experiment lets you simulate coin flips as per your preferences and specifications!\n",
        "\n",
        "Your task involves recording a video where you'll explain the concept of the **Law of Large Numbers** using this experiment. Dive further into the experience by adjusting the number of coins and exploring varying coin biases. 🪙📹🔍"
      ],
      "metadata": {
        "id": "olsEhR8RjsIF"
      }
    }
  ]
}